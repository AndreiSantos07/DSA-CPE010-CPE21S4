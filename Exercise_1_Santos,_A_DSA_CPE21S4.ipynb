{
  "nbformat": 4,
  "nbformat_minor": 0,
  "metadata": {
    "colab": {
      "provenance": [],
      "authorship_tag": "ABX9TyN4AWLh1u6SISyDHSAK2t7e",
      "include_colab_link": true
    },
    "kernelspec": {
      "name": "python3",
      "display_name": "Python 3"
    },
    "language_info": {
      "name": "python"
    }
  },
  "cells": [
    {
      "cell_type": "markdown",
      "metadata": {
        "id": "view-in-github",
        "colab_type": "text"
      },
      "source": [
        "<a href=\"https://colab.research.google.com/github/AndreiSantos07/DSA-CPE010-CPE21S4/blob/main/Exercise_1_Santos%2C_A_DSA_CPE21S4.ipynb\" target=\"_parent\"><img src=\"https://colab.research.google.com/assets/colab-badge.svg\" alt=\"Open In Colab\"/></a>"
      ]
    },
    {
      "cell_type": "code",
      "execution_count": 38,
      "metadata": {
        "id": "I5SD6bvumxXw",
        "colab": {
          "base_uri": "https://localhost:8080/"
        },
        "outputId": "6ec7810c-ec24-418d-ce59-3f3b31e7ddd3"
      },
      "outputs": [
        {
          "output_type": "stream",
          "name": "stdout",
          "text": [
            "The value of the length is = 56\n",
            "The value of the width is = 2\n",
            "The value of the area is = 112\n"
          ]
        }
      ],
      "source": [
        "class Rectangle:\n",
        "    def __init__(self, length, width):\n",
        "        self.length = length\n",
        "        self.width = width\n",
        "    def area(self):\n",
        "        return self.length * self.width\n",
        "\n",
        "lengths = int(input(\"The value of the length is = \"))\n",
        "widths = int(input(\"The value of the width is = \"))\n",
        "anslw = Rectangle(lengths, widths)\n",
        "\n",
        "print(\"The value of the area is =\",anslw.area())\n"
      ]
    }
  ]
}