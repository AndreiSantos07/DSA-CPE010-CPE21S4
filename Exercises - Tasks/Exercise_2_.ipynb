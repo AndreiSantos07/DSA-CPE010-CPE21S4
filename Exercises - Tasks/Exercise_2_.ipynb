{
  "nbformat": 4,
  "nbformat_minor": 0,
  "metadata": {
    "colab": {
      "provenance": [],
      "include_colab_link": true
    },
    "kernelspec": {
      "name": "python3",
      "display_name": "Python 3"
    },
    "language_info": {
      "name": "python"
    }
  },
  "cells": [
    {
      "cell_type": "markdown",
      "metadata": {
        "id": "view-in-github",
        "colab_type": "text"
      },
      "source": [
        "<a href=\"https://colab.research.google.com/github/AndreiSantos07/DSA-CPE010-CPE21S4/blob/main/Exercise_2_.ipynb\" target=\"_parent\"><img src=\"https://colab.research.google.com/assets/colab-badge.svg\" alt=\"Open In Colab\"/></a>"
      ]
    },
    {
      "cell_type": "code",
      "execution_count": 2,
      "metadata": {
        "id": "5uCyPcNo5E0w",
        "colab": {
          "base_uri": "https://localhost:8080/"
        },
        "outputId": "ce0f7dfc-2678-49ec-cb94-48e5800e24da"
      },
      "outputs": [
        {
          "output_type": "stream",
          "name": "stdout",
          "text": [
            "Area of Rectangle =  56\n",
            "Area of Square =  100\n",
            "Area of Triangle =  15.0\n"
          ]
        }
      ],
      "source": [
        "#Superclass\n",
        "\n",
        "class Shapes():\n",
        "  def __init__(self, length = 0, width = 0, side = 0, base = 0, height = 0):\n",
        "    self.length = length\n",
        "    self.width = width\n",
        "    self.side = side\n",
        "    self.base = base\n",
        "    self.height = height\n",
        "\n",
        "\n",
        "#Subclasses\n",
        "\n",
        "class Rectangle(Shapes):\n",
        "  def Area_Rectangle(self):\n",
        "    return self.length * self.width\n",
        "\n",
        "class Square(Shapes):\n",
        "  def Area_Square(self):\n",
        "    return self.side ** 2\n",
        "\n",
        "class Triangle(Shapes):\n",
        "  def Area_Triangle(self):\n",
        "    return (self.base * self.height) / 2\n",
        "\n",
        "calculation_of_area = Rectangle(length = 8, width = 7)\n",
        "print(\"Area of Rectangle = \", calculation_of_area.Area_Rectangle())\n",
        "calculation_of_area = Square(side = 10)\n",
        "print(\"Area of Square = \", calculation_of_area.Area_Square())\n",
        "calculation_of_area = Triangle(base = 5, height = 6)\n",
        "print(\"Area of Triangle = \", calculation_of_area.Area_Triangle())"
      ]
    },
    {
      "cell_type": "code",
      "source": [],
      "metadata": {
        "id": "YQsWf4Jz5MVK"
      },
      "execution_count": null,
      "outputs": []
    }
  ]
}
